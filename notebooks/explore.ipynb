{
 "cells": [
  {
   "cell_type": "code",
   "execution_count": null,
   "id": "c146c430",
   "metadata": {},
   "outputs": [],
   "source": [
    "import pandas as pd\n",
    "import qgrid\n",
    "import json\n",
    "import os\n",
    "import functools\n",
    "import ipywidgets as widgets\n",
    "from pathlib import Path\n",
    "from IPython.display import clear_output, display\n",
    "from ipyleaflet import Map, Icon, Marker, AntPath, basemaps, basemap_to_tiles, LayerException\n",
    "from OSGridConverter import grid2latlong\n",
    "\n",
    "import sys\n",
    "sys.path.append('..')\n",
    "from src import sandbox, gpx\n",
    "from src.settings import PROJECT_PATH, DATASET_PATH"
   ]
  },
  {
   "cell_type": "code",
   "execution_count": null,
   "id": "ed6d60d5",
   "metadata": {},
   "outputs": [],
   "source": [
    "file_gen = DATASET_PATH.glob(\"*walks.json\")\n",
    "\n",
    "dfs = [] # an empty list to store the data frames\n",
    "for file in file_gen:\n",
    "    \n",
    "    with open(file) as f:\n",
    "        \n",
    "        data = json.load(f)\n",
    "        dfs.append(pd.DataFrame(data))\n",
    "\n",
    "df = pd.concat(dfs, ignore_index=True) # concatenate all the data frames in the list.\n",
    "\n",
    "display(df)"
   ]
  },
  {
   "cell_type": "markdown",
   "id": "d968971f",
   "metadata": {},
   "source": [
    "We have two columns for time as some of the higher graded walks are given in summer conditions. Let's combine those.\n",
    "Similary, some columns are plurals of others, let's combine those too."
   ]
  },
  {
   "cell_type": "code",
   "execution_count": null,
   "id": "48ae9278",
   "metadata": {},
   "outputs": [],
   "source": [
    "df[\"Time\"] = df[\"Time\"].fillna(df[\"Time (summer conditions)\"])\n",
    "df = df.drop(columns=\"Time (summer conditions)\")\n",
    "\n",
    "for col in df.columns:\n",
    "    if col + 's' in df.columns:\n",
    "        df[col] = df[col].fillna(df[col + 's'])\n",
    "        df = df.drop(columns=col + 's')\n",
    "\n",
    "display(df)"
   ]
  },
  {
   "cell_type": "markdown",
   "id": "0abb9b33",
   "metadata": {},
   "source": [
    "Let's have a look at walks that include Munro's only. While we're at it, let's look at the really tough one's! We'll also drop columns that have all null values."
   ]
  },
  {
   "cell_type": "code",
   "execution_count": null,
   "id": "54eb3c68",
   "metadata": {},
   "outputs": [],
   "source": [
    "munro_walks = df[(df['Munro'].notnull()) & (df['Grade'].astype(int) >= 3)]\n",
    "munro_walks = munro_walks.dropna(axis=1, how='all')\n",
    "display(munro_walks)"
   ]
  },
  {
   "cell_type": "markdown",
   "id": "4af08dc8",
   "metadata": {},
   "source": []
  },
  {
   "cell_type": "code",
   "execution_count": null,
   "id": "ee73e0ec",
   "metadata": {},
   "outputs": [],
   "source": [
    "m = Map(\n",
    "    basemap=basemap_to_tiles(basemaps.OpenStreetMap.Mapnik),\n",
    "    center=(57, 356),\n",
    "    zoom=6\n",
    "    )\n",
    "\n",
    "p = Map(\n",
    "    basemap=basemap_to_tiles(basemaps.WaymarkedTrails.hiking),\n",
    "    center=(57, 356),\n",
    "    zoom=6\n",
    "    )\n",
    "\n",
    "#mark = Marker(location=[57, 356], icon=icon)\n",
    "#m.add_layer(mark)\n",
    "\n",
    "for p in munro_walks[\"Start Grid Ref\"]:\n",
    "    loc = grid2latlong(p)\n",
    "    lat = loc.latitude\n",
    "    lon = 360 + loc.longitude if loc.longitude < 0 else loc.longitude\n",
    "    mark = Marker(location=[lat, lon])\n",
    "    m.add_layer(mark)\n",
    "\n",
    "m"
   ]
  },
  {
   "cell_type": "code",
   "execution_count": null,
   "id": "c0d5bc9e",
   "metadata": {
    "scrolled": true
   },
   "outputs": [],
   "source": [
    "df = sandbox.main()\n",
    "\n",
    "widget = qgrid.show_grid(df)\n",
    "widget"
   ]
  },
  {
   "cell_type": "code",
   "execution_count": null,
   "id": "f85fdf1d",
   "metadata": {},
   "outputs": [],
   "source": [
    "def get_lat_lon_bounds(df):\n",
    "    \n",
    "    north = max(df[\"lat\"])\n",
    "    south = min(df[\"lat\"])\n",
    "    east = max(df[\"lon\"])\n",
    "    west = min(df[\"lon\"])\n",
    "    \n",
    "    return [(south, west), (north, east)]\n",
    "\n",
    "def handle_click(map_handle, data, **kwargs):\n",
    "    \n",
    "    route = gpx.parse(data[\"GPX\"])\n",
    "    route = gpx.positive_long(route)\n",
    "    latlon = list(zip(route.lat, route.lon))\n",
    "    path = AntPath(locations=latlon)\n",
    "    \n",
    "    try:\n",
    "        map_handle.substitute_layer(handle_click.current, path)\n",
    "    except (AttributeError, LayerException):\n",
    "        map_handle.add_layer(path)\n",
    "        \n",
    "    handle_click.current = path\n",
    "    \n",
    "    map_handle.center = kwargs[\"coordinates\"]\n",
    "    map_handle.zoom = 11\n",
    "    # map_handle.fit_bounds = get_lat_lon_bounds(route)\n",
    "   \n",
    "    display(data)\n",
    "    "
   ]
  },
  {
   "cell_type": "code",
   "execution_count": null,
   "id": "ef0082f0",
   "metadata": {},
   "outputs": [],
   "source": [
    "filtered_df = widget.get_changed_df()\n",
    "\n",
    "m = Map(\n",
    "    basemap=basemap_to_tiles(basemaps.OpenStreetMap.Mapnik),\n",
    "    center=(57, 356),\n",
    "    zoom=6\n",
    "    )\n",
    "\n",
    "display_max = 100\n",
    "\n",
    "if len(filtered_df.index) < display_max:\n",
    "    \n",
    "    for _, p in filtered_df.iterrows():\n",
    "        mark = Marker(location=(p[\"lat\"], p[\"lon\"]), draggable=False, title=p[\"Name\"])\n",
    "        mark.on_click(functools.partial(handle_click, m, p))\n",
    "        m.add_layer(mark)\n",
    "        \n",
    "else:\n",
    "    print(f\"Too many walks to show ({len(filtered_df.index)})! Filter below maximum ({display_max}) \")\n",
    "    \n",
    "m\n",
    "        "
   ]
  },
  {
   "cell_type": "code",
   "execution_count": null,
   "id": "613e00ce",
   "metadata": {},
   "outputs": [],
   "source": []
  }
 ],
 "metadata": {
  "kernelspec": {
   "display_name": "scraper-inS__biu-py3.9",
   "language": "python",
   "name": "scraper-ins__biu-py3.9"
  },
  "language_info": {
   "codemirror_mode": {
    "name": "ipython",
    "version": 3
   },
   "file_extension": ".py",
   "mimetype": "text/x-python",
   "name": "python",
   "nbconvert_exporter": "python",
   "pygments_lexer": "ipython3",
   "version": "3.9.10"
  }
 },
 "nbformat": 4,
 "nbformat_minor": 5
}
